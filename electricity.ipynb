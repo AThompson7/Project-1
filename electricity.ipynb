{
 "cells": [
  {
   "cell_type": "code",
   "execution_count": 15,
   "id": "95bebc59",
   "metadata": {},
   "outputs": [
    {
     "data": {
      "text/html": [
       "<div>\n",
       "<style scoped>\n",
       "    .dataframe tbody tr th:only-of-type {\n",
       "        vertical-align: middle;\n",
       "    }\n",
       "\n",
       "    .dataframe tbody tr th {\n",
       "        vertical-align: top;\n",
       "    }\n",
       "\n",
       "    .dataframe thead th {\n",
       "        text-align: right;\n",
       "    }\n",
       "</style>\n",
       "<table border=\"1\" class=\"dataframe\">\n",
       "  <thead>\n",
       "    <tr style=\"text-align: right;\">\n",
       "      <th></th>\n",
       "      <th>date</th>\n",
       "      <th>demand</th>\n",
       "      <th>RRP</th>\n",
       "      <th>demand_pos_RRP</th>\n",
       "      <th>RRP_positive</th>\n",
       "      <th>demand_neg_RRP</th>\n",
       "      <th>RRP_negative</th>\n",
       "      <th>frac_at_neg_RRP</th>\n",
       "      <th>min_temperature</th>\n",
       "      <th>max_temperature</th>\n",
       "      <th>solar_exposure</th>\n",
       "      <th>rainfall</th>\n",
       "      <th>school_day</th>\n",
       "      <th>holiday</th>\n",
       "    </tr>\n",
       "  </thead>\n",
       "  <tbody>\n",
       "    <tr>\n",
       "      <th>0</th>\n",
       "      <td>2015-01-01</td>\n",
       "      <td>99635.03</td>\n",
       "      <td>25.633696</td>\n",
       "      <td>97319.240</td>\n",
       "      <td>26.415953</td>\n",
       "      <td>2315.790</td>\n",
       "      <td>-7.240000</td>\n",
       "      <td>0.020833</td>\n",
       "      <td>13.3</td>\n",
       "      <td>26.9</td>\n",
       "      <td>23.6</td>\n",
       "      <td>0.0</td>\n",
       "      <td>N</td>\n",
       "      <td>Y</td>\n",
       "    </tr>\n",
       "    <tr>\n",
       "      <th>1</th>\n",
       "      <td>2015-01-02</td>\n",
       "      <td>129606.01</td>\n",
       "      <td>33.138988</td>\n",
       "      <td>121082.015</td>\n",
       "      <td>38.837661</td>\n",
       "      <td>8523.995</td>\n",
       "      <td>-47.809777</td>\n",
       "      <td>0.062500</td>\n",
       "      <td>15.4</td>\n",
       "      <td>38.8</td>\n",
       "      <td>26.8</td>\n",
       "      <td>0.0</td>\n",
       "      <td>N</td>\n",
       "      <td>N</td>\n",
       "    </tr>\n",
       "  </tbody>\n",
       "</table>\n",
       "</div>"
      ],
      "text/plain": [
       "         date     demand        RRP  demand_pos_RRP  RRP_positive  \\\n",
       "0  2015-01-01   99635.03  25.633696       97319.240     26.415953   \n",
       "1  2015-01-02  129606.01  33.138988      121082.015     38.837661   \n",
       "\n",
       "   demand_neg_RRP  RRP_negative  frac_at_neg_RRP  min_temperature  \\\n",
       "0        2315.790     -7.240000         0.020833             13.3   \n",
       "1        8523.995    -47.809777         0.062500             15.4   \n",
       "\n",
       "   max_temperature  solar_exposure  rainfall school_day holiday  \n",
       "0             26.9            23.6       0.0          N       Y  \n",
       "1             38.8            26.8       0.0          N       N  "
      ]
     },
     "execution_count": 15,
     "metadata": {},
     "output_type": "execute_result"
    }
   ],
   "source": [
    "# Dependencies and Setup\n",
    "import matplotlib.pyplot as plt\n",
    "import pandas as pd\n",
    "import scipy.stats as st\n",
    "import datetime as dt\n",
    "\n",
    "electricity_data_to_load = \"Resources/complete_dataset.csv\"\n",
    "electricity_data = pd.read_csv(electricity_data_to_load)\n",
    "electricity_data.head(2)\n"
   ]
  },
  {
   "cell_type": "code",
   "execution_count": 2,
   "id": "a27ed345",
   "metadata": {},
   "outputs": [
    {
     "data": {
      "text/html": [
       "<div>\n",
       "<style scoped>\n",
       "    .dataframe tbody tr th:only-of-type {\n",
       "        vertical-align: middle;\n",
       "    }\n",
       "\n",
       "    .dataframe tbody tr th {\n",
       "        vertical-align: top;\n",
       "    }\n",
       "\n",
       "    .dataframe thead th {\n",
       "        text-align: right;\n",
       "    }\n",
       "</style>\n",
       "<table border=\"1\" class=\"dataframe\">\n",
       "  <thead>\n",
       "    <tr style=\"text-align: right;\">\n",
       "      <th></th>\n",
       "      <th>Date</th>\n",
       "      <th>Demand (MWh)</th>\n",
       "      <th>RRP (AUD/MWh)</th>\n",
       "      <th>demand_pos_RRP</th>\n",
       "      <th>RRP_positive</th>\n",
       "      <th>demand_neg_RRP</th>\n",
       "      <th>RRP_negative</th>\n",
       "      <th>frac_at_neg_RRP</th>\n",
       "      <th>Min Temperature</th>\n",
       "      <th>Max temperature</th>\n",
       "      <th>Total Sunlight Energy (MJ/m^2)</th>\n",
       "      <th>Rainfall (mm)</th>\n",
       "      <th>School Day</th>\n",
       "      <th>Holiday</th>\n",
       "    </tr>\n",
       "  </thead>\n",
       "  <tbody>\n",
       "    <tr>\n",
       "      <th>0</th>\n",
       "      <td>2015-01-01</td>\n",
       "      <td>99635.03</td>\n",
       "      <td>25.633696</td>\n",
       "      <td>97319.240</td>\n",
       "      <td>26.415953</td>\n",
       "      <td>2315.790</td>\n",
       "      <td>-7.240000</td>\n",
       "      <td>0.020833</td>\n",
       "      <td>13.3</td>\n",
       "      <td>26.9</td>\n",
       "      <td>23.6</td>\n",
       "      <td>0.0</td>\n",
       "      <td>N</td>\n",
       "      <td>Y</td>\n",
       "    </tr>\n",
       "    <tr>\n",
       "      <th>1</th>\n",
       "      <td>2015-01-02</td>\n",
       "      <td>129606.01</td>\n",
       "      <td>33.138988</td>\n",
       "      <td>121082.015</td>\n",
       "      <td>38.837661</td>\n",
       "      <td>8523.995</td>\n",
       "      <td>-47.809777</td>\n",
       "      <td>0.062500</td>\n",
       "      <td>15.4</td>\n",
       "      <td>38.8</td>\n",
       "      <td>26.8</td>\n",
       "      <td>0.0</td>\n",
       "      <td>N</td>\n",
       "      <td>N</td>\n",
       "    </tr>\n",
       "  </tbody>\n",
       "</table>\n",
       "</div>"
      ],
      "text/plain": [
       "         Date  Demand (MWh)  RRP (AUD/MWh)  demand_pos_RRP  RRP_positive  \\\n",
       "0  2015-01-01      99635.03      25.633696       97319.240     26.415953   \n",
       "1  2015-01-02     129606.01      33.138988      121082.015     38.837661   \n",
       "\n",
       "   demand_neg_RRP  RRP_negative  frac_at_neg_RRP  Min Temperature  \\\n",
       "0        2315.790     -7.240000         0.020833             13.3   \n",
       "1        8523.995    -47.809777         0.062500             15.4   \n",
       "\n",
       "   Max temperature  Total Sunlight Energy (MJ/m^2)  Rainfall (mm) School Day  \\\n",
       "0             26.9                            23.6            0.0          N   \n",
       "1             38.8                            26.8            0.0          N   \n",
       "\n",
       "  Holiday  \n",
       "0       Y  \n",
       "1       N  "
      ]
     },
     "execution_count": 2,
     "metadata": {},
     "output_type": "execute_result"
    }
   ],
   "source": [
    "electricity_data_df = electricity_data.rename(columns={\"date\":\"Date\", \"demand\":\"Demand (MWh)\", \"RRP\": \"RRP (AUD/MWh)\",\n",
    "                                                       \"min_temperature\":\"Min Temperature\", \"max_temperature\":\"Max temperature\",\n",
    "                                                       \"solar_exposure\":\"Total Sunlight Energy (MJ/m^2)\", \"rainfall\": \"Rainfall (mm)\",\n",
    "                                                      \"school_day\":\"School Day\", \"holiday\":\"Holiday\"})\n",
    "electricity_data_df.head(2)"
   ]
  },
  {
   "cell_type": "code",
   "execution_count": 3,
   "id": "ae90ee55",
   "metadata": {},
   "outputs": [],
   "source": [
    "electricity_data_clean = electricity_data_df.drop(electricity_data_df.columns[[3,4,5,6,7]],axis=1)"
   ]
  },
  {
   "cell_type": "code",
   "execution_count": 4,
   "id": "9109534b",
   "metadata": {},
   "outputs": [],
   "source": [
    "#Dropping rows with missing values\n",
    "electricity_data_clean = electricity_data_clean.dropna()"
   ]
  },
  {
   "cell_type": "code",
   "execution_count": 5,
   "id": "f1613d40",
   "metadata": {},
   "outputs": [
    {
     "data": {
      "text/html": [
       "<div>\n",
       "<style scoped>\n",
       "    .dataframe tbody tr th:only-of-type {\n",
       "        vertical-align: middle;\n",
       "    }\n",
       "\n",
       "    .dataframe tbody tr th {\n",
       "        vertical-align: top;\n",
       "    }\n",
       "\n",
       "    .dataframe thead th {\n",
       "        text-align: right;\n",
       "    }\n",
       "</style>\n",
       "<table border=\"1\" class=\"dataframe\">\n",
       "  <thead>\n",
       "    <tr style=\"text-align: right;\">\n",
       "      <th></th>\n",
       "      <th>date</th>\n",
       "      <th>demand</th>\n",
       "      <th>RRP</th>\n",
       "      <th>demand_pos_RRP</th>\n",
       "      <th>RRP_positive</th>\n",
       "      <th>demand_neg_RRP</th>\n",
       "      <th>RRP_negative</th>\n",
       "      <th>frac_at_neg_RRP</th>\n",
       "      <th>min_temperature</th>\n",
       "      <th>max_temperature</th>\n",
       "      <th>solar_exposure</th>\n",
       "      <th>rainfall</th>\n",
       "      <th>school_day</th>\n",
       "      <th>holiday</th>\n",
       "    </tr>\n",
       "  </thead>\n",
       "  <tbody>\n",
       "    <tr>\n",
       "      <th>0</th>\n",
       "      <td>2015-01-01</td>\n",
       "      <td>99635.030</td>\n",
       "      <td>25.633696</td>\n",
       "      <td>97319.240</td>\n",
       "      <td>26.415953</td>\n",
       "      <td>2315.790</td>\n",
       "      <td>-7.240000</td>\n",
       "      <td>0.020833</td>\n",
       "      <td>13.3</td>\n",
       "      <td>26.9</td>\n",
       "      <td>23.6</td>\n",
       "      <td>0.0</td>\n",
       "      <td>N</td>\n",
       "      <td>Y</td>\n",
       "    </tr>\n",
       "    <tr>\n",
       "      <th>1</th>\n",
       "      <td>2015-01-02</td>\n",
       "      <td>129606.010</td>\n",
       "      <td>33.138988</td>\n",
       "      <td>121082.015</td>\n",
       "      <td>38.837661</td>\n",
       "      <td>8523.995</td>\n",
       "      <td>-47.809777</td>\n",
       "      <td>0.062500</td>\n",
       "      <td>15.4</td>\n",
       "      <td>38.8</td>\n",
       "      <td>26.8</td>\n",
       "      <td>0.0</td>\n",
       "      <td>N</td>\n",
       "      <td>N</td>\n",
       "    </tr>\n",
       "    <tr>\n",
       "      <th>2</th>\n",
       "      <td>2015-01-03</td>\n",
       "      <td>142300.540</td>\n",
       "      <td>34.564855</td>\n",
       "      <td>142300.540</td>\n",
       "      <td>34.564855</td>\n",
       "      <td>0.000</td>\n",
       "      <td>0.000000</td>\n",
       "      <td>0.000000</td>\n",
       "      <td>20.0</td>\n",
       "      <td>38.2</td>\n",
       "      <td>26.5</td>\n",
       "      <td>0.0</td>\n",
       "      <td>N</td>\n",
       "      <td>N</td>\n",
       "    </tr>\n",
       "    <tr>\n",
       "      <th>3</th>\n",
       "      <td>2015-01-04</td>\n",
       "      <td>104330.715</td>\n",
       "      <td>25.005560</td>\n",
       "      <td>104330.715</td>\n",
       "      <td>25.005560</td>\n",
       "      <td>0.000</td>\n",
       "      <td>0.000000</td>\n",
       "      <td>0.000000</td>\n",
       "      <td>16.3</td>\n",
       "      <td>21.4</td>\n",
       "      <td>25.2</td>\n",
       "      <td>4.2</td>\n",
       "      <td>N</td>\n",
       "      <td>N</td>\n",
       "    </tr>\n",
       "    <tr>\n",
       "      <th>4</th>\n",
       "      <td>2015-01-05</td>\n",
       "      <td>118132.200</td>\n",
       "      <td>26.724176</td>\n",
       "      <td>118132.200</td>\n",
       "      <td>26.724176</td>\n",
       "      <td>0.000</td>\n",
       "      <td>0.000000</td>\n",
       "      <td>0.000000</td>\n",
       "      <td>15.0</td>\n",
       "      <td>22.0</td>\n",
       "      <td>30.7</td>\n",
       "      <td>0.0</td>\n",
       "      <td>N</td>\n",
       "      <td>N</td>\n",
       "    </tr>\n",
       "  </tbody>\n",
       "</table>\n",
       "</div>"
      ],
      "text/plain": [
       "         date      demand        RRP  demand_pos_RRP  RRP_positive  \\\n",
       "0  2015-01-01   99635.030  25.633696       97319.240     26.415953   \n",
       "1  2015-01-02  129606.010  33.138988      121082.015     38.837661   \n",
       "2  2015-01-03  142300.540  34.564855      142300.540     34.564855   \n",
       "3  2015-01-04  104330.715  25.005560      104330.715     25.005560   \n",
       "4  2015-01-05  118132.200  26.724176      118132.200     26.724176   \n",
       "\n",
       "   demand_neg_RRP  RRP_negative  frac_at_neg_RRP  min_temperature  \\\n",
       "0        2315.790     -7.240000         0.020833             13.3   \n",
       "1        8523.995    -47.809777         0.062500             15.4   \n",
       "2           0.000      0.000000         0.000000             20.0   \n",
       "3           0.000      0.000000         0.000000             16.3   \n",
       "4           0.000      0.000000         0.000000             15.0   \n",
       "\n",
       "   max_temperature  solar_exposure  rainfall school_day holiday  \n",
       "0             26.9            23.6       0.0          N       Y  \n",
       "1             38.8            26.8       0.0          N       N  \n",
       "2             38.2            26.5       0.0          N       N  \n",
       "3             21.4            25.2       4.2          N       N  \n",
       "4             22.0            30.7       0.0          N       N  "
      ]
     },
     "execution_count": 5,
     "metadata": {},
     "output_type": "execute_result"
    }
   ],
   "source": [
    "electricity_data.head()"
   ]
  },
  {
   "cell_type": "code",
   "execution_count": 6,
   "id": "38ac95b7",
   "metadata": {},
   "outputs": [],
   "source": [
    "#Removing rows with large price outliers\n",
    "electricity_data_clean.sort_values(\"RRP (AUD/MWh)\").tail(20)\n",
    "electricity_data_clean = electricity_data_clean.loc[electricity_data_clean[\"RRP (AUD/MWh)\"] <= 200, :]"
   ]
  },
  {
   "cell_type": "code",
   "execution_count": 7,
   "id": "af78da72",
   "metadata": {},
   "outputs": [
    {
     "name": "stdout",
     "output_type": "stream",
     "text": [
      "The P-value is: 2.0413552877954313e-30\n",
      "The r-squared is: 0.06\n",
      "The correlation coefficient is : 0.247\n"
     ]
    },
    {
     "data": {
      "image/png": "[encoded data removed]",
      "text/plain": [
       "<Figure size 432x288 with 1 Axes>"
      ]
     },
     "metadata": {
      "needs_background": "light"
     },
     "output_type": "display_data"
    }
   ],
   "source": [
    "#Getting demand and price data to create scatterplot and check for correlation.\n",
    "demand = electricity_data_clean[\"Demand (MWh)\"]\n",
    "price = electricity_data_clean[\"RRP (AUD/MWh)\"]\n",
    "\n",
    "(slope, intercept, rvalue, pvalue, stderr) = st.linregress(price, demand)\n",
    "regress_values = price * slope + intercept\n",
    "line_eq = (f'y = {round(slope,3)}x + {round(intercept,2)}')\n",
    "plt.scatter(price, demand)\n",
    "plt.plot(price, regress_values,\"red\")\n",
    "plt.annotate(line_eq,(80,90000), color=\"red\",fontsize=14)\n",
    "plt.title(\"Electrcity Price Vs Demand Relationship\")\n",
    "plt.xlabel(\"RRP (AUD/MWh)\")\n",
    "plt.ylabel(\"Demand (MWh)\")\n",
    "print(f\"The P-value is: {(pvalue)}\")\n",
    "print(f\"The r-squared is: {round(rvalue**2,2)}\")\n",
    "print(f'The correlation coefficient is : {round(rvalue,3)}')\n"
   ]
  },
  {
   "cell_type": "code",
   "execution_count": 8,
   "id": "4f9d5662",
   "metadata": {},
   "outputs": [
    {
     "name": "stdout",
     "output_type": "stream",
     "text": [
      "The P-value is: 3.030363958530687e-43\n",
      "The r-squared is: 0.09\n",
      "The correlation coefficient is : -0.295\n"
     ]
    },
    {
     "data": {
      "image/png": "[encoded data removed]",
      "text/plain": [
       "<Figure size 432x288 with 1 Axes>"
      ]
     },
     "metadata": {
      "needs_background": "light"
     },
     "output_type": "display_data"
    }
   ],
   "source": [
    "sunlight= electricity_data_clean[\"Total Sunlight Energy (MJ/m^2)\"]\n",
    "\n",
    "(slope, intercept, rvalue, pvalue, stderr) = st.linregress(sunlight, demand)\n",
    "regress_values = sunlight * slope + intercept\n",
    "line_eq = (f'y = {round(slope,3)}x + {round(intercept,2)}')\n",
    "plt.scatter(sunlight, demand)\n",
    "plt.plot(sunlight, regress_values,\"red\")\n",
    "plt.annotate(line_eq,(2,85000), color=\"red\",fontsize=16)\n",
    "plt.title(\"Sunlight Energy Vs Electricity Demand\")\n",
    "plt.xlabel(\"Total Sunlight Energy (MJ/m^2)\")\n",
    "plt.ylabel(\"Demand (MWh)\")\n",
    "print(f\"The P-value is: {(pvalue)}\")\n",
    "print(f\"The r-squared is: {round(rvalue**2,2)}\")\n",
    "print(f'The correlation coefficient is : {round(rvalue,3)}')"
   ]
  },
  {
   "cell_type": "code",
   "execution_count": 9,
   "id": "3b9e2488",
   "metadata": {},
   "outputs": [
    {
     "data": {
      "text/plain": [
       "0       High Sunlight\n",
       "1       High Sunlight\n",
       "2       High Sunlight\n",
       "3       High Sunlight\n",
       "4       High Sunlight\n",
       "            ...      \n",
       "2101    High Sunlight\n",
       "2102    High Sunlight\n",
       "2103     Low Sunlight\n",
       "2104     Low Sunlight\n",
       "2105     Low Sunlight\n",
       "Name: Total Sunlight Energy (MJ/m^2), Length: 2084, dtype: category\n",
       "Categories (2, object): [Low Sunlight < High Sunlight]"
      ]
     },
     "execution_count": 9,
     "metadata": {},
     "output_type": "execute_result"
    }
   ],
   "source": [
    "solar_bins = pd.cut(electricity_data_clean[\"Total Sunlight Energy (MJ/m^2)\"], bins=2, \n",
    "                                        labels=(\"Low Sunlight\", \"High Sunlight\"))\n",
    "solar_bins"
   ]
  },
  {
   "cell_type": "code",
   "execution_count": 13,
   "id": "c656b981",
   "metadata": {},
   "outputs": [],
   "source": [
    "electricity_data_clean[\"Sunlight Level\"] = solar_bins"
   ]
  },
  {
   "cell_type": "code",
   "execution_count": 33,
   "id": "7a3afa94",
   "metadata": {},
   "outputs": [],
   "source": [
    "low_sunlight = electricity_data_clean.loc[electricity_data_clean[\"Sunlight Level\"] == \"Low Sunlight\",:]\n",
    "high_sunlight = electricity_data_clean.loc[electricity_data_clean[\"Sunlight Level\"] == \"High Sunlight\",:]"
   ]
  },
  {
   "cell_type": "code",
   "execution_count": 18,
   "id": "67ce237d",
   "metadata": {},
   "outputs": [],
   "source": [
    "electricity_data_clean[\"Date\"] = pd.to_datetime(electricity_data_clean['Date'])"
   ]
  },
  {
   "cell_type": "code",
   "execution_count": 26,
   "id": "1d7aed82",
   "metadata": {},
   "outputs": [],
   "source": [
    "data_2015 = electricity_data_clean[electricity_data_clean['Date'].dt.year == 2015]\n",
    "data_2020 = electricity_data_clean[electricity_data_clean['Date'].dt.year == 2020]"
   ]
  },
  {
   "cell_type": "code",
   "execution_count": 57,
   "id": "f2964836",
   "metadata": {},
   "outputs": [],
   "source": [
    "data_2020_demand = data_2020.groupby(\"Sunlight Level\")[\"Demand (MWh)\"].mean()\n",
    "data_2015_demand = data_2015.groupby(\"Sunlight Level\")[\"Demand (MWh)\"].mean()"
   ]
  },
  {
   "cell_type": "code",
   "execution_count": null,
   "id": "46cf43c9",
   "metadata": {},
   "outputs": [],
   "source": []
  },
  {
   "cell_type": "code",
   "execution_count": 97,
   "id": "c04ae3a0",
   "metadata": {},
   "outputs": [
    {
     "data": {
      "image/png": "[encoded data removed]",
      "text/plain": [
       "<Figure size 432x288 with 1 Axes>"
      ]
     },
     "metadata": {
      "needs_background": "light"
     },
     "output_type": "display_data"
    },
    {
     "name": "stdout",
     "output_type": "stream",
     "text": [
      "Average demand (MWh) on low sunlight days: 127926.0\n",
      "Average demand (MWh) on high sunlight days: 119880.0\n",
      "6.71 % increase when moving from high sunlight to low sunlight.\n"
     ]
    }
   ],
   "source": [
    "sunlight_2015_plot = data_2020_demand.plot.bar(color = \"orange\")\n",
    "plt.title(\"2015 Average Electricity Demand at High and Low Sunlight\")\n",
    "plt.xlabel(\"Sunlight Level\")\n",
    "plt.ylabel(\"Demand (MWh)\")\n",
    "plt.show()\n",
    "print(f'Average demand (MWh) on low sunlight days: {round(data_2015_demand[\"Low Sunlight\"])}')\n",
    "print(f'Average demand (MWh) on high sunlight days: {round(data_2015_demand[\"High Sunlight\"])}')\n",
    "percent_change_2015 = (data_2015_demand[\"Low Sunlight\"] - data_2015_demand[\"High Sunlight\"]) / data_2015_demand[\"High Sunlight\"]\n",
    "print(f'{round(percent_change_2015*100,2)} % increase when moving from high sunlight to low sunlight.')"
   ]
  },
  {
   "cell_type": "code",
   "execution_count": 98,
   "id": "db0cfe7f",
   "metadata": {},
   "outputs": [
    {
     "data": {
      "image/png": "[encoded data removed]",
      "text/plain": [
       "<Figure size 432x288 with 1 Axes>"
      ]
     },
     "metadata": {
      "needs_background": "light"
     },
     "output_type": "display_data"
    },
    {
     "name": "stdout",
     "output_type": "stream",
     "text": [
      "Average demand (MWh) on low sunlight days: 119135.0\n",
      "Average demand (MWh) on high sunlight days: 109105.0\n",
      "9.19 % increase in electricity demand when moving from high sunlight to low sunlight.\n"
     ]
    }
   ],
   "source": [
    "sunlight_2020_plot = data_2020_demand.plot.bar(color=\"orange\")\n",
    "plt.title(\"2020 Average Electricity Demand at High and Low Sunlight\")\n",
    "plt.xlabel(\"Sunlight Level\")\n",
    "plt.ylabel(\"Demand (MWh)\")\n",
    "plt.show()\n",
    "print(f'Average demand (MWh) on low sunlight days: {round(data_2020_demand[\"Low Sunlight\"])}')\n",
    "print(f'Average demand (MWh) on high sunlight days: {round(data_2020_demand[\"High Sunlight\"])}')\n",
    "percent_change_2020 = (data_2020_demand[\"Low Sunlight\"] - data_2020_demand[\"High Sunlight\"]) / data_2020_demand[\"High Sunlight\"]\n",
    "print(f'{round(percent_change_2020*100,2)} % increase in electricity demand when moving from high sunlight to low sunlight.')"
   ]
  },
  {
   "cell_type": "code",
   "execution_count": null,
   "id": "71219f0c",
   "metadata": {},
   "outputs": [],
   "source": []
  }
 ],
 "metadata": {
  "kernelspec": {
   "display_name": "Python [conda env:PythonData] *",
   "language": "python",
   "name": "conda-env-PythonData-py"
  },
  "language_info": {
   "codemirror_mode": {
    "name": "ipython",
    "version": 3
   },
   "file_extension": ".py",
   "mimetype": "text/x-python",
   "name": "python",
   "nbconvert_exporter": "python",
   "pygments_lexer": "ipython3",
   "version": "3.7.7"
  }
 },
 "nbformat": 4,
 "nbformat_minor": 5
}
